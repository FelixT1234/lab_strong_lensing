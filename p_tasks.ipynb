{
 "cells": [
  {
   "cell_type": "code",
   "execution_count": 147,
   "metadata": {},
   "outputs": [],
   "source": [
    "from astropop.math import QFloat\n",
    "from astropy import units as u\n",
    "from astropy import constants as const\n",
    "import numpy as np\n",
    "\n",
    "c = QFloat(const.c.value, None, const.c.unit)\n",
    "G = QFloat(const.G.value, None, const.G.unit)\n",
    "\n",
    "def format_to_nice_str(number, precision=None):\n",
    "    value = number.nominal\n",
    "    error = number.uncertainty\n",
    "    unit = number.unit\n",
    "    if precision is None:\n",
    "        if error == 0:\n",
    "            err_precision = 0\n",
    "            val_precision = 3\n",
    "        elif value == 0:\n",
    "            val_precision = 0\n",
    "            err_precision = 0\n",
    "        else:\n",
    "            value_exponent = int(np.log10(abs(value)))\n",
    "            error_exponent = int(np.log10(abs(error)))\n",
    "            precision = value_exponent - error_exponent\n",
    "            val_precision = precision\n",
    "            err_precision = precision\n",
    "    return f\"({value:.{val_precision}e} +- {error:.{err_precision}e}) {unit}\""
   ]
  },
  {
   "cell_type": "markdown",
   "metadata": {},
   "source": [
    "# P5"
   ]
  },
  {
   "cell_type": "markdown",
   "metadata": {},
   "source": [
    "#### Measured value for Einstein radius:"
   ]
  },
  {
   "cell_type": "code",
   "execution_count": 148,
   "metadata": {},
   "outputs": [
    {
     "name": "stdout",
     "output_type": "stream",
     "text": [
      "\n",
      "\n",
      "Distance in pixel: 334+-2 pix\n",
      "Distance from A to Center: 33.4+-0.2 arcsec\n",
      "\n",
      "Distance in pixel: 339+-2 pix\n",
      "Distance from B to Center: 33.9+-0.2 arcsec\n",
      "\n",
      "Distance in pixel: 347+-2 pix\n",
      "Distance from C to Center: 34.7+-0.2 arcsec\n",
      "\n",
      "Distance in pixel: 225+-2 pix\n",
      "Distance from D to Center: 22.5+-0.2 arcsec\n",
      "\n",
      "Mean Einstein radius: 31.1+-0.1 arcsec\n",
      "\n",
      "Distance in pixel: 564+-3 pix\n",
      "Einstein radius from distance B to D: 28.2+-0.1 arcsec\n",
      "Deviation: einstein radius BD to mean einstein radius: 9.4+-0.6%\n",
      "Deviation: mean einstein radius to einstein radius BD: -10.4+-0.7%\n"
     ]
    }
   ],
   "source": [
    "images = (\"A\", \"B\", \"C\", \"D\") # only used to print results\n",
    "\n",
    "x_err = 2\n",
    "y_err = 2\n",
    "\n",
    "coords_A = (QFloat(1277.0, x_err, u.pix), QFloat(714.0, y_err, u.pix))\n",
    "coords_B = (QFloat(1093.0, x_err, u.pix), QFloat(707.5, y_err, u.pix))\n",
    "coords_C = (QFloat(1002.0, x_err, u.pix), QFloat(668.0, y_err, u.pix))\n",
    "coords_D = (QFloat(1276.0, x_err, u.pix), QFloat(174.5, y_err, u.pix))\n",
    "\n",
    "coords_all_images = [coords_A, coords_B, coords_C, coords_D]\n",
    "coords_center = (QFloat(1206.1, 1, u.pix), QFloat(387.9, 1, u.pix))\n",
    "\n",
    "conv_factor_px_arcsec = QFloat(0.1, None, u.arcsec / u.pixel)\n",
    "\n",
    "def get_distance_in_arcsec(coords_a, coords_b):\n",
    "    d_y = np.abs(coords_a[1] - coords_b[1])\n",
    "    d_x = np.abs(coords_a[0] - coords_b[0])\n",
    "    d_pixel = (np.sqrt(d_y**2 + d_x**2))\n",
    "    print(f\"Distance in pixel: {d_pixel}\")\n",
    "    d_arcsec = d_pixel * conv_factor_px_arcsec\n",
    "    return d_arcsec\n",
    "\n",
    "# calculate and print distances from image to center:\n",
    "distance_to_center_all_images = []\n",
    "print(\"\\n\") # create blank line\n",
    "for pos, coords_image in enumerate(coords_all_images):\n",
    "    distance = get_distance_in_arcsec(coords_image, coords_center)\n",
    "    distance_to_center_all_images.append(distance)\n",
    "    print(f\"Distance from {images[pos]} to Center: {distance}\", end=\"\\n\\n\")\n",
    "\n",
    "mean_distance_to_center = np.mean(distance_to_center_all_images)\n",
    "mean_einstein_radius = mean_distance_to_center\n",
    "print(f\"Mean Einstein radius: {mean_einstein_radius}\",\n",
    "       end=\"\\n\\n\")\n",
    "\n",
    "# calculate and print half the distance from B to D:\n",
    "einstein_radius_B_D = (get_distance_in_arcsec(coords_B, coords_D) / 2)\n",
    "print(f\"Einstein radius from distance B to D: {einstein_radius_B_D}\")\n",
    "\n",
    "# print deviation:\n",
    "print(f\"Deviation: einstein radius BD to mean einstein radius: {(100 * (1 - einstein_radius_B_D / mean_distance_to_center))}%\")\n",
    "print(f\"Deviation: mean einstein radius to einstein radius BD: {(100 * (1 - mean_distance_to_center / einstein_radius_B_D))}%\")"
   ]
  },
  {
   "cell_type": "markdown",
   "metadata": {},
   "source": [
    "#### Velocity dispersion:"
   ]
  },
  {
   "cell_type": "code",
   "execution_count": 149,
   "metadata": {},
   "outputs": [
    {
     "name": "stdout",
     "output_type": "stream",
     "text": [
      "Velocity Dispersion for z -> inf, error 0.1: (1.073e+03 +- 1.904e+00) km rad(1/2) / s\n",
      "Velocity Dispersion for z -> inf, error 1.0: (1.07e+03 +- 1.90e+01) km rad(1/2) / s\n",
      "Velocity Dispersion for z = 1.6, error 0.1: (1.276e+03 +- 2.264e+00) km rad(1/2) / s\n",
      "Velocity Dispersion for z = 1.6, error 1.0: (1.28e+03 +- 2.26e+01) km rad(1/2) / s\n",
      "Velocity Dispersion for z = 1.6, combined Einstein radii: (1.31e+03 +- 3.53e+01) km rad(1/2) / s\n"
     ]
    }
   ],
   "source": [
    "z_d = 0.39\n",
    "u = 1/np.sqrt(1+z_d)\n",
    "\n",
    "# Resetting the error on the einstein radius:\n",
    "\n",
    "# error of 0.1 arcsec\n",
    "einstein_radius_1 = QFloat(einstein_radius_B_D.nominal, 0.1, \"arcsec\")\n",
    "\n",
    "# error of 1.0 arcsec\n",
    "einstein_radius_2 = QFloat(einstein_radius_B_D.nominal, 1.0, \"arcsec\")\n",
    "\n",
    "einstein_radius_combined = QFloat(29.7, 1.6, \"arcsec\")\n",
    "\n",
    "def get_velocity_dispersion(einstein_radius, z):\n",
    "    if z == \"inf\":\n",
    "        velocity_dispersion = np.sqrt(einstein_radius.to(\"rad\")*c**2/(4*np.pi*u))\n",
    "    else:\n",
    "        D_s_prop = (1+z)**(-1) - (1+z)**(-3/2) # prop means without constant\n",
    "        D_ds_prop = u * (1+z)**(-1) - (1+z)**(-3/2)\n",
    "        velocity_dispersion = np.sqrt(einstein_radius.to(\"rad\") * c**2 / (4 * np.pi) * (D_s_prop / D_ds_prop))\n",
    "    return velocity_dispersion.to(\"rad(1/2) km/s\")\n",
    "\n",
    "\n",
    "# For z = inf:\n",
    "velocity_dispersion_inf_1 = get_velocity_dispersion(einstein_radius_1, z='inf')\n",
    "velocity_dispersion_inf_2 = get_velocity_dispersion(einstein_radius_2, z='inf')\n",
    "\n",
    "print(f\"Velocity Dispersion for z -> inf, error 0.1: {format_to_nice_str(velocity_dispersion_inf_1)}\")\n",
    "print(f\"Velocity Dispersion for z -> inf, error 1.0: {format_to_nice_str(velocity_dispersion_inf_2)}\")\n",
    "\n",
    "# For z = 1.6:\n",
    "velocity_dispersion_1 = get_velocity_dispersion(einstein_radius_1, z=1.6)\n",
    "velocity_dispersion_2 = get_velocity_dispersion(einstein_radius_2, z=1.6)\n",
    "velocity_dispersion_combined = get_velocity_dispersion(einstein_radius_combined, z=1.6)\n",
    "\n",
    "print(f\"Velocity Dispersion for z = 1.6, error 0.1: {format_to_nice_str(velocity_dispersion_1)}\")\n",
    "print(f\"Velocity Dispersion for z = 1.6, error 1.0: {format_to_nice_str(velocity_dispersion_2)}\")\n",
    "print(f\"Velocity Dispersion for z = 1.6, combined Einstein radii: {format_to_nice_str(velocity_dispersion_combined)}\")"
   ]
  },
  {
   "cell_type": "markdown",
   "metadata": {},
   "source": [
    "#### Mass calculation:"
   ]
  },
  {
   "cell_type": "code",
   "execution_count": 150,
   "metadata": {},
   "outputs": [
    {
     "name": "stdout",
     "output_type": "stream",
     "text": [
      "Enclosed Mass, error 0.1 arcsec: (1.063e+14 +- 7.548e+11) rad2 M_sun*h^-1\n",
      "Enclosed Mass, error 1.0 arcsec: (1.06e+14 +- 7.55e+12) rad2 M_sun*h^-1\n",
      "Enclosed Mass, combined Einstein radii: (1.2e+14 +- 1.3e+13) rad2 M_sun*h^-1\n",
      "\n",
      "H_0 = 67.66+-0.42 km / (Mpc s)\n",
      "h = 0.6766\n",
      "Enclosed Mass, error 0.1 arcsec: (1.57e+14 +- 1.48e+12) rad2 M_sun\n",
      "Enclosed Mass, error 1.0 arcsec: (1.6e+14 +- 1.1e+13) rad2 M_sun\n",
      "Enclosed Mass, combined Einstein radii: (1.7e+14 +- 1.9e+13) rad2 M_sun*h^-1\n"
     ]
    }
   ],
   "source": [
    "z_s = 1.6\n",
    "H = QFloat(100, None, \"km / (s Mpc)\").to(\"1/s\") # h = H_0/H\n",
    "\n",
    "D_s_h = (2*c / H) * ((1+z_s)**(-1) - (1+z_s)**(-3/2)) # times h^-1\n",
    "D_ds_h = (2*c / H) * (u * (1+z_s)**(-1) - (1+z_s)**(-3/2)) # times h^-1\n",
    "D_d_h = (2*c / H) * ((1+z_d)**(-1) - (1+z_d)**(-3/2)) # times h^-1\n",
    "\n",
    "enclosed_mass_h_1 = (c**2 / (4*G)) * (D_d_h*D_s_h / D_ds_h) * (einstein_radius_1.to(\"rad\")**2)\n",
    "\n",
    "enclosed_mass_h_2 = (c**2 / (4*G)) * (D_d_h*D_s_h / D_ds_h) * (einstein_radius_2.to(\"rad\")**2)\n",
    "\n",
    "enclosed_mass_h_combined = (c**2 / (4*G)) * (D_d_h*D_s_h / D_ds_h) * (einstein_radius_combined.to(\"rad\")**2)\n",
    "\n",
    "# print in solar masses:\n",
    "mass_sun = QFloat(const.M_sun.value, None, const.M_sun.unit)\n",
    "enclosed_mass_h_1 /= mass_sun\n",
    "enclosed_mass_h_2 /= mass_sun\n",
    "enclosed_mass_h_combined /= mass_sun\n",
    "\n",
    "\n",
    "print(f\"Enclosed Mass, error 0.1 arcsec: {format_to_nice_str(enclosed_mass_h_1)} M_sun*h^-1\")\n",
    "print(f\"Enclosed Mass, error 1.0 arcsec: {format_to_nice_str(enclosed_mass_h_2)} M_sun*h^-1\")\n",
    "\n",
    "print(f\"Enclosed Mass, combined Einstein radii: {format_to_nice_str(enclosed_mass_h_combined)} M_sun*h^-1\")\n",
    "\n",
    "# use fixed H_0:\n",
    "H_0 = QFloat(67.66, 0.42, \"km / (s Mpc)\")\n",
    "print(f\"\\nH_0 = {H_0.nominal}+-{H_0.uncertainty} {H_0.unit}\")\n",
    "\n",
    "h = (H_0.to(\"1/s\")/H)\n",
    "print(f\"h = {h.nominal}\")\n",
    "\n",
    "print(f\"Enclosed Mass, error 0.1 arcsec: {format_to_nice_str(enclosed_mass_h_1 * h**(-1))} M_sun\")\n",
    "print(f\"Enclosed Mass, error 1.0 arcsec: {format_to_nice_str(enclosed_mass_h_2 * h**(-1))} M_sun\")\n",
    "\n",
    "print(f\"Enclosed Mass, combined Einstein radii: {format_to_nice_str(enclosed_mass_h_combined * h**(-1))} M_sun*h^-1\")\n"
   ]
  },
  {
   "cell_type": "markdown",
   "metadata": {},
   "source": [
    "#### Size calculation:"
   ]
  },
  {
   "cell_type": "code",
   "execution_count": 151,
   "metadata": {},
   "outputs": [
    {
     "name": "stdout",
     "output_type": "stream",
     "text": [
      "Size, error 0.1 arcsec: 89.5+-0.3 kpc rad*h^-1\n",
      "Size, error 1.0 arcsec: 89+-3 kpc rad*h^-1\n",
      "Size, combined Einstein radii: 94+-5 kpc rad*h^-1\n"
     ]
    }
   ],
   "source": [
    "size_1 = (D_d_h.to(\"kpc\") * einstein_radius_1.to(\"rad\")) # times h^-1\n",
    "size_2 = (D_d_h.to(\"kpc\") * einstein_radius_2.to(\"rad\")) # times h^-1\n",
    "size_combined = (D_d_h.to(\"kpc\") * einstein_radius_combined.to(\"rad\")) # times h^-1\n",
    "\n",
    "print(f\"Size, error 0.1 arcsec: {size_1}*h^-1\")\n",
    "print(f\"Size, error 1.0 arcsec: {size_2}*h^-1\")\n",
    "print(f\"Size, combined Einstein radii: {size_combined}*h^-1\")"
   ]
  },
  {
   "cell_type": "markdown",
   "metadata": {},
   "source": [
    "# P6"
   ]
  },
  {
   "cell_type": "code",
   "execution_count": 152,
   "metadata": {},
   "outputs": [
    {
     "name": "stdout",
     "output_type": "stream",
     "text": [
      "Upper core radius, error 0.1 arcsec: 12.68+-0.05 arcsec\n",
      "Upper core radius, error 1.0 arcsec: 12.7+-0.4 arcsec\n",
      "Upper core radius, combined Einstein radii: 13.4+-0.7 arcsec\n"
     ]
    }
   ],
   "source": [
    "max_eff_core_radius = QFloat(0.45, None, None)\n",
    "\n",
    "def get_max_core_radius(max_eff_radius, einstein_radius):\n",
    "    max_core_radius = max_eff_radius * einstein_radius\n",
    "    return max_core_radius\n",
    "\n",
    "max_core_radius_1 = get_max_core_radius(max_eff_core_radius, einstein_radius_1)\n",
    "max_core_radius_2 = get_max_core_radius(max_eff_core_radius, einstein_radius_2)\n",
    "max_core_radius_combined = get_max_core_radius(max_eff_core_radius, einstein_radius_combined)\n",
    "\n",
    "print(f\"Upper core radius, error 0.1 arcsec: {max_core_radius_1}\")\n",
    "print(f\"Upper core radius, error 1.0 arcsec: {max_core_radius_2}\")\n",
    "print(f\"Upper core radius, combined Einstein radii: {max_core_radius_combined}\")\n"
   ]
  }
 ],
 "metadata": {
  "kernelspec": {
   "display_name": ".venv",
   "language": "python",
   "name": "python3"
  },
  "language_info": {
   "codemirror_mode": {
    "name": "ipython",
    "version": 3
   },
   "file_extension": ".py",
   "mimetype": "text/x-python",
   "name": "python",
   "nbconvert_exporter": "python",
   "pygments_lexer": "ipython3",
   "version": "3.10.12"
  }
 },
 "nbformat": 4,
 "nbformat_minor": 2
}
